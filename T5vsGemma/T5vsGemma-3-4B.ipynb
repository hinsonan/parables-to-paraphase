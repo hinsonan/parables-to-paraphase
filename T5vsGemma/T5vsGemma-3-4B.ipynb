{
 "cells": [
  {
   "cell_type": "markdown",
   "id": "95f03104",
   "metadata": {},
   "source": [
    "# T5 VS Gemma-3-4B"
   ]
  },
  {
   "cell_type": "markdown",
   "id": "b7007372",
   "metadata": {},
   "source": [
    "## Setup"
   ]
  },
  {
   "cell_type": "markdown",
   "id": "1577cc0b",
   "metadata": {},
   "source": [
    "## Benchmarking"
   ]
  },
  {
   "cell_type": "markdown",
   "id": "a6fe782b",
   "metadata": {},
   "source": [
    "## Assesment"
   ]
  },
  {
   "cell_type": "markdown",
   "id": "2664c1df",
   "metadata": {},
   "source": [
    "## Recomendations"
   ]
  }
 ],
 "metadata": {
  "language_info": {
   "name": "python"
  }
 },
 "nbformat": 4,
 "nbformat_minor": 5
}
