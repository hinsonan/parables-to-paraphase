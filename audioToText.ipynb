{
 "cells": [
  {
   "cell_type": "markdown",
   "id": "50c05f0e",
   "metadata": {},
   "source": [
    "# create a notebook for audio to text "
   ]
  },
  {
   "cell_type": "markdown",
   "id": "5984eaaa",
   "metadata": {},
   "source": [
    "The first step is to create an interface for uploading files. For this, we’ll use ipywidgets, a Python library that provides interactive UI components beyond plain text."
   ]
  },
  {
   "cell_type": "code",
   "execution_count": 1,
   "id": "5aabccf9",
   "metadata": {},
   "outputs": [
    {
     "data": {
      "application/vnd.jupyter.widget-view+json": {
       "model_id": "be0c2c8da0fe417ba34ee4b39ef9a3f0",
       "version_major": 2,
       "version_minor": 0
      },
      "text/plain": [
       "FileUpload(value=(), accept='.mp3,.wav', description='Upload', multiple=True)"
      ]
     },
     "metadata": {},
     "output_type": "display_data"
    }
   ],
   "source": [
    "#this is a library that has sliders, dropdowns, checkboxes, text boxes, and file upload buttons\n",
    "import ipywidgets as widgets\n",
    "# os is used for working with files, directories, and environment variables.\n",
    "import os\n",
    "# this is to show more interesting outputs than just plain text\n",
    "from IPython.display import display\n",
    "\n",
    "uploader = widgets.FileUpload(accept='.mp3,.wav', multiple=True)\n",
    "display(uploader)"
   ]
  },
  {
   "cell_type": "markdown",
   "id": "d8289b19",
   "metadata": {},
   "source": [
    "The next step is to save the uploaded files into a local folder within our project so they can be accessed whenever needed."
   ]
  },
  {
   "cell_type": "code",
   "execution_count": null,
   "id": "83098bad",
   "metadata": {},
   "outputs": [],
   "source": [
    "def save_uploaded_mp3s(uploader, dest_dir=\"uploads\"):\n",
    "    # Creating destination directory if it doesn't exist\n",
    "    os.makedirs(dest_dir, exist_ok=True)\n",
    "    saved_paths = []\n",
    "    # Iterating over uploaded files and save them\n",
    "    for file_info in uploader.value:   \n",
    "        name = file_info[\"name\"]\n",
    "        content = file_info[\"content\"]\n",
    "        out_path = os.path.join(dest_dir, name)\n",
    "        # Save file content to the destination path\n",
    "        with open(out_path, \"wb\") as f:\n",
    "            f.write(content)\n",
    "        saved_paths.append(out_path)\n",
    "\n",
    "    return saved_paths"
   ]
  },
  {
   "cell_type": "code",
   "execution_count": null,
   "id": "86ad7650",
   "metadata": {},
   "outputs": [
    {
     "name": "stdout",
     "output_type": "stream",
     "text": [
      "()\n"
     ]
    }
   ],
   "source": [
    "#make sure files are uploaded\n",
    "print(uploader.value)\n"
   ]
  },
  {
   "cell_type": "markdown",
   "id": "cff0f8d3",
   "metadata": {},
   "source": [
    "Now that our audio files are uploaded and saved, the next step is to transcribe them into text. We’ll use the Transformers library, which provides a simple way to load and run pretrained models like OpenAI’s Whisper for speech recognition."
   ]
  },
  {
   "cell_type": "code",
   "execution_count": null,
   "id": "085cd532",
   "metadata": {},
   "outputs": [
    {
     "name": "stderr",
     "output_type": "stream",
     "text": [
      "Device set to use mps:0\n"
     ]
    }
   ],
   "source": [
    "# using the transformers library from huggingface to use the whisper model\n",
    "from transformers import pipeline\n",
    "#load the whisper model\n",
    "transcriber = pipeline(\"automatic-speech-recognition\", model=\"openai/whisper-small\") \n",
    "# the small version does not need a huge amount of memory or processing power we can change this to large if we want better accuracy\n",
    "\n",
    "#function to transcribe the mp3 files\n",
    "def transcribe_mp3s(saved_paths):\n",
    "    transcriptions = {}\n",
    "    for path in saved_paths:\n",
    "        result = transcriber(path)\n",
    "        transcriptions[os.path.basename(path)] = result['text']\n",
    "    #save each transcription to a text file\n",
    "        with open(path + \".txt\", \"w\") as f:\n",
    "            f.write(result['text'])\n",
    "    return transcriptions \n",
    "saved_paths = save_uploaded_mp3s(uploader)\n",
    "transcriptions = transcribe_mp3s(saved_paths)\n",
    "#show the transcriptions \n",
    "for file_name, text in transcriptions.items():\n",
    "    print(f\"Transcription for {file_name}:\\n{text}\\n\")\n",
    "    \n",
    "\n"
   ]
  }
 ],
 "metadata": {
  "kernelspec": {
   "display_name": "cis477",
   "language": "python",
   "name": "python3"
  },
  "language_info": {
   "codemirror_mode": {
    "name": "ipython",
    "version": 3
   },
   "file_extension": ".py",
   "mimetype": "text/x-python",
   "name": "python",
   "nbconvert_exporter": "python",
   "pygments_lexer": "ipython3",
   "version": "3.11.11"
  }
 },
 "nbformat": 4,
 "nbformat_minor": 5
}
