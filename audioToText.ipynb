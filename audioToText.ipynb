{
 "cells": [
  {
   "cell_type": "markdown",
   "id": "50c05f0e",
   "metadata": {},
   "source": [
    "# create a notebook for audio to text "
   ]
  }
 ],
 "metadata": {
  "language_info": {
   "name": "python"
  }
 },
 "nbformat": 4,
 "nbformat_minor": 5
}
