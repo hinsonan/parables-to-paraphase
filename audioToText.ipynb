{
 "cells": [
  {
   "cell_type": "markdown",
   "id": "50c05f0e",
   "metadata": {},
   "source": [
    "# create a notebook for audio to text "
   ]
  },
  {
   "cell_type": "code",
   "execution_count": 2,
   "id": "5aabccf9",
   "metadata": {},
   "outputs": [
    {
     "data": {
      "application/vnd.jupyter.widget-view+json": {
       "model_id": "d6d1ae773da848f6acfc9b10c09615c8",
       "version_major": 2,
       "version_minor": 0
      },
      "text/plain": [
       "FileUpload(value=(), accept='.mp3', description='Upload', multiple=True)"
      ]
     },
     "metadata": {},
     "output_type": "display_data"
    }
   ],
   "source": [
    "#this is a library that has sliders, dropdowns, checkboxes, text boxes, and file upload buttons\n",
    "import ipywidgets as widgets\n",
    "# os is used for working with files, directories, and environment variables.\n",
    "import os\n",
    "# this is to show more interesting outputs than just plain text\n",
    "from IPython.display import display\n",
    "\n",
    "uploader = widgets.FileUpload(accept='.mp3', multiple=True)\n",
    "display(uploader)"
   ]
  },
  {
   "cell_type": "code",
   "execution_count": null,
   "id": "83098bad",
   "metadata": {},
   "outputs": [],
   "source": [
    "def save_uploaded_mp3s(uploader, dest_dir=\"uploads\"):\n",
    "    os.makedirs(dest_dir, exist_ok=True)  \n",
    "    files = uploader.value  # uploaded files\n",
    "    saved_paths = []\n",
    "\n",
    "    for name, info in files.items():\n",
    "        content = info['content']              \n",
    "        out_path = os.path.join(dest_dir, name)  # save path\n",
    "        with open(out_path, \"wb\") as f:        # write to disk\n",
    "            f.write(content)\n",
    "        saved_paths.append(out_path)\n",
    "\n",
    "    return saved_paths\n",
    "\n",
    "#now we have the mp3 files in our jupyter notebook, the next step is to use these mp3s to turn them into text\n",
    "\n",
    "# I researched a tool to use for transcribing audio to text and I found OpenAi whisper. "
   ]
  },
  {
   "cell_type": "code",
   "execution_count": null,
   "id": "085cd532",
   "metadata": {},
   "outputs": [],
   "source": [
    "import whisper\n",
    "\n",
    "# load Whisper model\n",
    "model = whisper.load_model(\"large\")  \n",
    "\n",
    "#  make a folder for transcripts\n",
    "os.makedirs(\"transcripts\", exist_ok=True)\n",
    "\n",
    "# loop through each uploaded mp3 and transcribe\n",
    "for path in saved_paths:\n",
    "    print(f\"Transcribing: {path}\")\n",
    "    \n",
    "    # run whisper\n",
    "    result = model.transcribe(path)\n",
    "    text = result[\"text\"]\n",
    "    \n",
    "    # save text to a file with the same base name\n",
    "    base = os.path.splitext(os.path.basename(path))[0]\n",
    "    out_path = os.path.join(\"transcripts\", base + \".txt\")\n",
    "    \n",
    "    with open(out_path, \"w\", encoding=\"utf-8\") as f:\n",
    "        f.write(text)\n",
    "    \n",
    "    print(f\"Saved transcript → {out_path}\")\n"
   ]
  }
 ],
 "metadata": {
  "kernelspec": {
   "display_name": "cis477",
   "language": "python",
   "name": "python3"
  },
  "language_info": {
   "codemirror_mode": {
    "name": "ipython",
    "version": 3
   },
   "file_extension": ".py",
   "mimetype": "text/x-python",
   "name": "python",
   "nbconvert_exporter": "python",
   "pygments_lexer": "ipython3",
   "version": "3.11.13"
  }
 },
 "nbformat": 4,
 "nbformat_minor": 5
}
